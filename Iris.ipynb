{
  "nbformat": 4,
  "nbformat_minor": 0,
  "metadata": {
    "colab": {
      "name": "Iris.ipynb",
      "provenance": [],
      "collapsed_sections": [],
      "authorship_tag": "ABX9TyPg/pOVIP/ySZjEXnb1Wf0i",
      "include_colab_link": true
    },
    "kernelspec": {
      "name": "python3",
      "display_name": "Python 3"
    },
    "language_info": {
      "name": "python"
    }
  },
  "cells": [
    {
      "cell_type": "markdown",
      "metadata": {
        "id": "view-in-github",
        "colab_type": "text"
      },
      "source": [
        "<a href=\"https://colab.research.google.com/github/den0400/Iris_Machine_Learning/blob/main/Iris.ipynb\" target=\"_parent\"><img src=\"https://colab.research.google.com/assets/colab-badge.svg\" alt=\"Open In Colab\"/></a>"
      ]
    },
    {
      "cell_type": "code",
      "execution_count": null,
      "metadata": {
        "id": "xjYgG8IGIO8E"
      },
      "outputs": [],
      "source": [
        "import warnings\n",
        "warnings.filterwarnings('ignore')\n",
        "\n",
        "import matplotlib.pyplot as plt\n",
        "import seaborn as sns\n",
        "from keras.models import Sequential\n",
        "from keras.layers import Dense\n",
        "from tensorflow.keras.utils import to_categorical\n",
        "from sklearn.model_selection import train_test_split\n",
        "\n",
        "# Librerias varias\n",
        "import pandas as pd\n",
        "from pandas import set_option\n",
        "from pandas import read_csv\n",
        "import csv\n",
        "import numpy as np\n",
        "from numpy import loadtxt\n",
        "import scipy.stats\n",
        "import seaborn as sns\n",
        "import matplotlib.pyplot as plt\n",
        "from matplotlib import pyplot\n",
        "import statsmodels.api as sm\n",
        "from sklearn.decomposition import PCA\n",
        "from sklearn.preprocessing import StandardScaler\n",
        "from sklearn.model_selection import train_test_split\n",
        "from sklearn.metrics import accuracy_score\n",
        "%matplotlib inline\n",
        "#Model classification\n",
        "from sklearn.model_selection import KFold\n",
        "from sklearn.model_selection import cross_val_score\n",
        "from pandas.plotting import scatter_matrix\n",
        "from sklearn import svm, datasets\n",
        "from sklearn.metrics import ConfusionMatrixDisplay\n",
        "from sklearn.datasets import make_classification\n",
        "from sklearn.metrics import plot_confusion_matrix\n",
        "#Xboost\n",
        "import xgboost\n",
        "from xgboost import XGBClassifier\n",
        "# Bagged Decision Trees for Classification\n",
        "from sklearn.ensemble import BaggingClassifier\n",
        "from sklearn.tree import DecisionTreeClassifier\n",
        "# Random Forest Classification\n",
        "from sklearn.ensemble import RandomForestClassifier\n",
        "# Compare Algorithms\n",
        "from sklearn.naive_bayes import GaussianNB\n",
        "from sklearn.ensemble import GradientBoostingClassifier\n",
        "from sklearn.neighbors import KNeighborsClassifier\n",
        "from sklearn.svm import SVC\n",
        "from sklearn.neural_network import MLPClassifier\n",
        "# Cross Validation Classification Accuracy\n",
        "from sklearn.linear_model import LogisticRegression\n",
        "# Feature Extraction with Univariate Statistical Tests (Chi-squared for classification)\n",
        "from numpy import set_printoptions\n",
        "from sklearn.feature_selection import SelectKBest\n",
        "from sklearn.feature_selection import chi2\n",
        "# Feature Extraction with RFE\n",
        "from sklearn.feature_selection import RFE\n",
        "# Cross Validation Classification Confusion Matrix\n",
        "from sklearn.metrics import confusion_matrix\n",
        "# Cross Validation Classification Report\n",
        "from sklearn.metrics import classification_report\n",
        "# Extra Trees Classification\n",
        "from sklearn.ensemble import ExtraTreesClassifier\n",
        "# Voting Ensemble for Classification\n",
        "from sklearn.ensemble import VotingClassifier\n",
        "\n",
        "\n",
        "\n",
        "\n",
        "plt.style.use(\"fivethirtyeight\")\n",
        "%matplotlib inline"
      ]
    },
    {
      "cell_type": "code",
      "source": [
        "df=pd.read_csv('Iris.csv')\n",
        "df.head()"
      ],
      "metadata": {
        "colab": {
          "base_uri": "https://localhost:8080/",
          "height": 206
        },
        "id": "BQyKzwbvJnve",
        "outputId": "66bc2c2c-510a-4c3e-95ed-8d3e161571b0"
      },
      "execution_count": null,
      "outputs": [
        {
          "output_type": "execute_result",
          "data": {
            "text/plain": [
              "   Id  SepalLengthCm  SepalWidthCm  PetalLengthCm  PetalWidthCm      Species\n",
              "0   1            5.1           3.5            1.4           0.2  Iris-setosa\n",
              "1   2            4.9           3.0            1.4           0.2  Iris-setosa\n",
              "2   3            4.7           3.2            1.3           0.2  Iris-setosa\n",
              "3   4            4.6           3.1            1.5           0.2  Iris-setosa\n",
              "4   5            5.0           3.6            1.4           0.2  Iris-setosa"
            ],
            "text/html": [
              "\n",
              "  <div id=\"df-04e69925-1c8d-4456-873b-b65d14f7f90a\">\n",
              "    <div class=\"colab-df-container\">\n",
              "      <div>\n",
              "<style scoped>\n",
              "    .dataframe tbody tr th:only-of-type {\n",
              "        vertical-align: middle;\n",
              "    }\n",
              "\n",
              "    .dataframe tbody tr th {\n",
              "        vertical-align: top;\n",
              "    }\n",
              "\n",
              "    .dataframe thead th {\n",
              "        text-align: right;\n",
              "    }\n",
              "</style>\n",
              "<table border=\"1\" class=\"dataframe\">\n",
              "  <thead>\n",
              "    <tr style=\"text-align: right;\">\n",
              "      <th></th>\n",
              "      <th>Id</th>\n",
              "      <th>SepalLengthCm</th>\n",
              "      <th>SepalWidthCm</th>\n",
              "      <th>PetalLengthCm</th>\n",
              "      <th>PetalWidthCm</th>\n",
              "      <th>Species</th>\n",
              "    </tr>\n",
              "  </thead>\n",
              "  <tbody>\n",
              "    <tr>\n",
              "      <th>0</th>\n",
              "      <td>1</td>\n",
              "      <td>5.1</td>\n",
              "      <td>3.5</td>\n",
              "      <td>1.4</td>\n",
              "      <td>0.2</td>\n",
              "      <td>Iris-setosa</td>\n",
              "    </tr>\n",
              "    <tr>\n",
              "      <th>1</th>\n",
              "      <td>2</td>\n",
              "      <td>4.9</td>\n",
              "      <td>3.0</td>\n",
              "      <td>1.4</td>\n",
              "      <td>0.2</td>\n",
              "      <td>Iris-setosa</td>\n",
              "    </tr>\n",
              "    <tr>\n",
              "      <th>2</th>\n",
              "      <td>3</td>\n",
              "      <td>4.7</td>\n",
              "      <td>3.2</td>\n",
              "      <td>1.3</td>\n",
              "      <td>0.2</td>\n",
              "      <td>Iris-setosa</td>\n",
              "    </tr>\n",
              "    <tr>\n",
              "      <th>3</th>\n",
              "      <td>4</td>\n",
              "      <td>4.6</td>\n",
              "      <td>3.1</td>\n",
              "      <td>1.5</td>\n",
              "      <td>0.2</td>\n",
              "      <td>Iris-setosa</td>\n",
              "    </tr>\n",
              "    <tr>\n",
              "      <th>4</th>\n",
              "      <td>5</td>\n",
              "      <td>5.0</td>\n",
              "      <td>3.6</td>\n",
              "      <td>1.4</td>\n",
              "      <td>0.2</td>\n",
              "      <td>Iris-setosa</td>\n",
              "    </tr>\n",
              "  </tbody>\n",
              "</table>\n",
              "</div>\n",
              "      <button class=\"colab-df-convert\" onclick=\"convertToInteractive('df-04e69925-1c8d-4456-873b-b65d14f7f90a')\"\n",
              "              title=\"Convert this dataframe to an interactive table.\"\n",
              "              style=\"display:none;\">\n",
              "        \n",
              "  <svg xmlns=\"http://www.w3.org/2000/svg\" height=\"24px\"viewBox=\"0 0 24 24\"\n",
              "       width=\"24px\">\n",
              "    <path d=\"M0 0h24v24H0V0z\" fill=\"none\"/>\n",
              "    <path d=\"M18.56 5.44l.94 2.06.94-2.06 2.06-.94-2.06-.94-.94-2.06-.94 2.06-2.06.94zm-11 1L8.5 8.5l.94-2.06 2.06-.94-2.06-.94L8.5 2.5l-.94 2.06-2.06.94zm10 10l.94 2.06.94-2.06 2.06-.94-2.06-.94-.94-2.06-.94 2.06-2.06.94z\"/><path d=\"M17.41 7.96l-1.37-1.37c-.4-.4-.92-.59-1.43-.59-.52 0-1.04.2-1.43.59L10.3 9.45l-7.72 7.72c-.78.78-.78 2.05 0 2.83L4 21.41c.39.39.9.59 1.41.59.51 0 1.02-.2 1.41-.59l7.78-7.78 2.81-2.81c.8-.78.8-2.07 0-2.86zM5.41 20L4 18.59l7.72-7.72 1.47 1.35L5.41 20z\"/>\n",
              "  </svg>\n",
              "      </button>\n",
              "      \n",
              "  <style>\n",
              "    .colab-df-container {\n",
              "      display:flex;\n",
              "      flex-wrap:wrap;\n",
              "      gap: 12px;\n",
              "    }\n",
              "\n",
              "    .colab-df-convert {\n",
              "      background-color: #E8F0FE;\n",
              "      border: none;\n",
              "      border-radius: 50%;\n",
              "      cursor: pointer;\n",
              "      display: none;\n",
              "      fill: #1967D2;\n",
              "      height: 32px;\n",
              "      padding: 0 0 0 0;\n",
              "      width: 32px;\n",
              "    }\n",
              "\n",
              "    .colab-df-convert:hover {\n",
              "      background-color: #E2EBFA;\n",
              "      box-shadow: 0px 1px 2px rgba(60, 64, 67, 0.3), 0px 1px 3px 1px rgba(60, 64, 67, 0.15);\n",
              "      fill: #174EA6;\n",
              "    }\n",
              "\n",
              "    [theme=dark] .colab-df-convert {\n",
              "      background-color: #3B4455;\n",
              "      fill: #D2E3FC;\n",
              "    }\n",
              "\n",
              "    [theme=dark] .colab-df-convert:hover {\n",
              "      background-color: #434B5C;\n",
              "      box-shadow: 0px 1px 3px 1px rgba(0, 0, 0, 0.15);\n",
              "      filter: drop-shadow(0px 1px 2px rgba(0, 0, 0, 0.3));\n",
              "      fill: #FFFFFF;\n",
              "    }\n",
              "  </style>\n",
              "\n",
              "      <script>\n",
              "        const buttonEl =\n",
              "          document.querySelector('#df-04e69925-1c8d-4456-873b-b65d14f7f90a button.colab-df-convert');\n",
              "        buttonEl.style.display =\n",
              "          google.colab.kernel.accessAllowed ? 'block' : 'none';\n",
              "\n",
              "        async function convertToInteractive(key) {\n",
              "          const element = document.querySelector('#df-04e69925-1c8d-4456-873b-b65d14f7f90a');\n",
              "          const dataTable =\n",
              "            await google.colab.kernel.invokeFunction('convertToInteractive',\n",
              "                                                     [key], {});\n",
              "          if (!dataTable) return;\n",
              "\n",
              "          const docLinkHtml = 'Like what you see? Visit the ' +\n",
              "            '<a target=\"_blank\" href=https://colab.research.google.com/notebooks/data_table.ipynb>data table notebook</a>'\n",
              "            + ' to learn more about interactive tables.';\n",
              "          element.innerHTML = '';\n",
              "          dataTable['output_type'] = 'display_data';\n",
              "          await google.colab.output.renderOutput(dataTable, element);\n",
              "          const docLink = document.createElement('div');\n",
              "          docLink.innerHTML = docLinkHtml;\n",
              "          element.appendChild(docLink);\n",
              "        }\n",
              "      </script>\n",
              "    </div>\n",
              "  </div>\n",
              "  "
            ]
          },
          "metadata": {},
          "execution_count": 2
        }
      ]
    },
    {
      "cell_type": "code",
      "source": [
        "#information about the dataset\n",
        "df.info()"
      ],
      "metadata": {
        "colab": {
          "base_uri": "https://localhost:8080/"
        },
        "id": "eh_hAzPGJxHe",
        "outputId": "55392c45-948c-47f4-917c-b68b3dae7423"
      },
      "execution_count": null,
      "outputs": [
        {
          "output_type": "stream",
          "name": "stdout",
          "text": [
            "<class 'pandas.core.frame.DataFrame'>\n",
            "RangeIndex: 150 entries, 0 to 149\n",
            "Data columns (total 6 columns):\n",
            " #   Column         Non-Null Count  Dtype  \n",
            "---  ------         --------------  -----  \n",
            " 0   Id             150 non-null    int64  \n",
            " 1   SepalLengthCm  150 non-null    float64\n",
            " 2   SepalWidthCm   150 non-null    float64\n",
            " 3   PetalLengthCm  150 non-null    float64\n",
            " 4   PetalWidthCm   150 non-null    float64\n",
            " 5   Species        150 non-null    object \n",
            "dtypes: float64(4), int64(1), object(1)\n",
            "memory usage: 7.2+ KB\n"
          ]
        }
      ]
    },
    {
      "cell_type": "code",
      "source": [
        "#describing about the dataset\n",
        "df.describe()"
      ],
      "metadata": {
        "colab": {
          "base_uri": "https://localhost:8080/",
          "height": 279
        },
        "id": "CmlhyFWqJ_3-",
        "outputId": "c82e0167-3984-4afa-cdf9-2e60ea59af17"
      },
      "execution_count": null,
      "outputs": [
        {
          "output_type": "execute_result",
          "data": {
            "text/plain": [
              "               Id  SepalLengthCm  SepalWidthCm  PetalLengthCm  PetalWidthCm\n",
              "count  150.000000     150.000000    150.000000     150.000000    150.000000\n",
              "mean    75.500000       5.843333      3.054000       3.758667      1.198667\n",
              "std     43.445368       0.828066      0.433594       1.764420      0.763161\n",
              "min      1.000000       4.300000      2.000000       1.000000      0.100000\n",
              "25%     38.250000       5.100000      2.800000       1.600000      0.300000\n",
              "50%     75.500000       5.800000      3.000000       4.350000      1.300000\n",
              "75%    112.750000       6.400000      3.300000       5.100000      1.800000\n",
              "max    150.000000       7.900000      4.400000       6.900000      2.500000"
            ],
            "text/html": [
              "\n",
              "  <div id=\"df-46f9b7fb-af03-4219-987b-62bdac34b0fc\">\n",
              "    <div class=\"colab-df-container\">\n",
              "      <div>\n",
              "<style scoped>\n",
              "    .dataframe tbody tr th:only-of-type {\n",
              "        vertical-align: middle;\n",
              "    }\n",
              "\n",
              "    .dataframe tbody tr th {\n",
              "        vertical-align: top;\n",
              "    }\n",
              "\n",
              "    .dataframe thead th {\n",
              "        text-align: right;\n",
              "    }\n",
              "</style>\n",
              "<table border=\"1\" class=\"dataframe\">\n",
              "  <thead>\n",
              "    <tr style=\"text-align: right;\">\n",
              "      <th></th>\n",
              "      <th>Id</th>\n",
              "      <th>SepalLengthCm</th>\n",
              "      <th>SepalWidthCm</th>\n",
              "      <th>PetalLengthCm</th>\n",
              "      <th>PetalWidthCm</th>\n",
              "    </tr>\n",
              "  </thead>\n",
              "  <tbody>\n",
              "    <tr>\n",
              "      <th>count</th>\n",
              "      <td>150.000000</td>\n",
              "      <td>150.000000</td>\n",
              "      <td>150.000000</td>\n",
              "      <td>150.000000</td>\n",
              "      <td>150.000000</td>\n",
              "    </tr>\n",
              "    <tr>\n",
              "      <th>mean</th>\n",
              "      <td>75.500000</td>\n",
              "      <td>5.843333</td>\n",
              "      <td>3.054000</td>\n",
              "      <td>3.758667</td>\n",
              "      <td>1.198667</td>\n",
              "    </tr>\n",
              "    <tr>\n",
              "      <th>std</th>\n",
              "      <td>43.445368</td>\n",
              "      <td>0.828066</td>\n",
              "      <td>0.433594</td>\n",
              "      <td>1.764420</td>\n",
              "      <td>0.763161</td>\n",
              "    </tr>\n",
              "    <tr>\n",
              "      <th>min</th>\n",
              "      <td>1.000000</td>\n",
              "      <td>4.300000</td>\n",
              "      <td>2.000000</td>\n",
              "      <td>1.000000</td>\n",
              "      <td>0.100000</td>\n",
              "    </tr>\n",
              "    <tr>\n",
              "      <th>25%</th>\n",
              "      <td>38.250000</td>\n",
              "      <td>5.100000</td>\n",
              "      <td>2.800000</td>\n",
              "      <td>1.600000</td>\n",
              "      <td>0.300000</td>\n",
              "    </tr>\n",
              "    <tr>\n",
              "      <th>50%</th>\n",
              "      <td>75.500000</td>\n",
              "      <td>5.800000</td>\n",
              "      <td>3.000000</td>\n",
              "      <td>4.350000</td>\n",
              "      <td>1.300000</td>\n",
              "    </tr>\n",
              "    <tr>\n",
              "      <th>75%</th>\n",
              "      <td>112.750000</td>\n",
              "      <td>6.400000</td>\n",
              "      <td>3.300000</td>\n",
              "      <td>5.100000</td>\n",
              "      <td>1.800000</td>\n",
              "    </tr>\n",
              "    <tr>\n",
              "      <th>max</th>\n",
              "      <td>150.000000</td>\n",
              "      <td>7.900000</td>\n",
              "      <td>4.400000</td>\n",
              "      <td>6.900000</td>\n",
              "      <td>2.500000</td>\n",
              "    </tr>\n",
              "  </tbody>\n",
              "</table>\n",
              "</div>\n",
              "      <button class=\"colab-df-convert\" onclick=\"convertToInteractive('df-46f9b7fb-af03-4219-987b-62bdac34b0fc')\"\n",
              "              title=\"Convert this dataframe to an interactive table.\"\n",
              "              style=\"display:none;\">\n",
              "        \n",
              "  <svg xmlns=\"http://www.w3.org/2000/svg\" height=\"24px\"viewBox=\"0 0 24 24\"\n",
              "       width=\"24px\">\n",
              "    <path d=\"M0 0h24v24H0V0z\" fill=\"none\"/>\n",
              "    <path d=\"M18.56 5.44l.94 2.06.94-2.06 2.06-.94-2.06-.94-.94-2.06-.94 2.06-2.06.94zm-11 1L8.5 8.5l.94-2.06 2.06-.94-2.06-.94L8.5 2.5l-.94 2.06-2.06.94zm10 10l.94 2.06.94-2.06 2.06-.94-2.06-.94-.94-2.06-.94 2.06-2.06.94z\"/><path d=\"M17.41 7.96l-1.37-1.37c-.4-.4-.92-.59-1.43-.59-.52 0-1.04.2-1.43.59L10.3 9.45l-7.72 7.72c-.78.78-.78 2.05 0 2.83L4 21.41c.39.39.9.59 1.41.59.51 0 1.02-.2 1.41-.59l7.78-7.78 2.81-2.81c.8-.78.8-2.07 0-2.86zM5.41 20L4 18.59l7.72-7.72 1.47 1.35L5.41 20z\"/>\n",
              "  </svg>\n",
              "      </button>\n",
              "      \n",
              "  <style>\n",
              "    .colab-df-container {\n",
              "      display:flex;\n",
              "      flex-wrap:wrap;\n",
              "      gap: 12px;\n",
              "    }\n",
              "\n",
              "    .colab-df-convert {\n",
              "      background-color: #E8F0FE;\n",
              "      border: none;\n",
              "      border-radius: 50%;\n",
              "      cursor: pointer;\n",
              "      display: none;\n",
              "      fill: #1967D2;\n",
              "      height: 32px;\n",
              "      padding: 0 0 0 0;\n",
              "      width: 32px;\n",
              "    }\n",
              "\n",
              "    .colab-df-convert:hover {\n",
              "      background-color: #E2EBFA;\n",
              "      box-shadow: 0px 1px 2px rgba(60, 64, 67, 0.3), 0px 1px 3px 1px rgba(60, 64, 67, 0.15);\n",
              "      fill: #174EA6;\n",
              "    }\n",
              "\n",
              "    [theme=dark] .colab-df-convert {\n",
              "      background-color: #3B4455;\n",
              "      fill: #D2E3FC;\n",
              "    }\n",
              "\n",
              "    [theme=dark] .colab-df-convert:hover {\n",
              "      background-color: #434B5C;\n",
              "      box-shadow: 0px 1px 3px 1px rgba(0, 0, 0, 0.15);\n",
              "      filter: drop-shadow(0px 1px 2px rgba(0, 0, 0, 0.3));\n",
              "      fill: #FFFFFF;\n",
              "    }\n",
              "  </style>\n",
              "\n",
              "      <script>\n",
              "        const buttonEl =\n",
              "          document.querySelector('#df-46f9b7fb-af03-4219-987b-62bdac34b0fc button.colab-df-convert');\n",
              "        buttonEl.style.display =\n",
              "          google.colab.kernel.accessAllowed ? 'block' : 'none';\n",
              "\n",
              "        async function convertToInteractive(key) {\n",
              "          const element = document.querySelector('#df-46f9b7fb-af03-4219-987b-62bdac34b0fc');\n",
              "          const dataTable =\n",
              "            await google.colab.kernel.invokeFunction('convertToInteractive',\n",
              "                                                     [key], {});\n",
              "          if (!dataTable) return;\n",
              "\n",
              "          const docLinkHtml = 'Like what you see? Visit the ' +\n",
              "            '<a target=\"_blank\" href=https://colab.research.google.com/notebooks/data_table.ipynb>data table notebook</a>'\n",
              "            + ' to learn more about interactive tables.';\n",
              "          element.innerHTML = '';\n",
              "          dataTable['output_type'] = 'display_data';\n",
              "          await google.colab.output.renderOutput(dataTable, element);\n",
              "          const docLink = document.createElement('div');\n",
              "          docLink.innerHTML = docLinkHtml;\n",
              "          element.appendChild(docLink);\n",
              "        }\n",
              "      </script>\n",
              "    </div>\n",
              "  </div>\n",
              "  "
            ]
          },
          "metadata": {},
          "execution_count": 4
        }
      ]
    },
    {
      "cell_type": "code",
      "source": [
        "df.shape"
      ],
      "metadata": {
        "colab": {
          "base_uri": "https://localhost:8080/"
        },
        "id": "mS5ePcs-KugS",
        "outputId": "1a282b23-219e-45de-8430-63b68b126fb7"
      },
      "execution_count": null,
      "outputs": [
        {
          "output_type": "execute_result",
          "data": {
            "text/plain": [
              "(150, 6)"
            ]
          },
          "metadata": {},
          "execution_count": 5
        }
      ]
    },
    {
      "cell_type": "code",
      "source": [
        "df.drop('Id',axis=1,inplace=True)"
      ],
      "metadata": {
        "id": "MYV0O4PFLJ7E"
      },
      "execution_count": null,
      "outputs": []
    },
    {
      "cell_type": "code",
      "source": [
        "df.head()"
      ],
      "metadata": {
        "colab": {
          "base_uri": "https://localhost:8080/",
          "height": 206
        },
        "id": "SQDm7gObLMDn",
        "outputId": "45826c2b-299c-47b9-90ce-c883ec7df22b"
      },
      "execution_count": null,
      "outputs": [
        {
          "output_type": "execute_result",
          "data": {
            "text/plain": [
              "   SepalLengthCm  SepalWidthCm  PetalLengthCm  PetalWidthCm      Species\n",
              "0            5.1           3.5            1.4           0.2  Iris-setosa\n",
              "1            4.9           3.0            1.4           0.2  Iris-setosa\n",
              "2            4.7           3.2            1.3           0.2  Iris-setosa\n",
              "3            4.6           3.1            1.5           0.2  Iris-setosa\n",
              "4            5.0           3.6            1.4           0.2  Iris-setosa"
            ],
            "text/html": [
              "\n",
              "  <div id=\"df-f9f2e932-8fef-4368-b0c1-2db27bd5cc73\">\n",
              "    <div class=\"colab-df-container\">\n",
              "      <div>\n",
              "<style scoped>\n",
              "    .dataframe tbody tr th:only-of-type {\n",
              "        vertical-align: middle;\n",
              "    }\n",
              "\n",
              "    .dataframe tbody tr th {\n",
              "        vertical-align: top;\n",
              "    }\n",
              "\n",
              "    .dataframe thead th {\n",
              "        text-align: right;\n",
              "    }\n",
              "</style>\n",
              "<table border=\"1\" class=\"dataframe\">\n",
              "  <thead>\n",
              "    <tr style=\"text-align: right;\">\n",
              "      <th></th>\n",
              "      <th>SepalLengthCm</th>\n",
              "      <th>SepalWidthCm</th>\n",
              "      <th>PetalLengthCm</th>\n",
              "      <th>PetalWidthCm</th>\n",
              "      <th>Species</th>\n",
              "    </tr>\n",
              "  </thead>\n",
              "  <tbody>\n",
              "    <tr>\n",
              "      <th>0</th>\n",
              "      <td>5.1</td>\n",
              "      <td>3.5</td>\n",
              "      <td>1.4</td>\n",
              "      <td>0.2</td>\n",
              "      <td>Iris-setosa</td>\n",
              "    </tr>\n",
              "    <tr>\n",
              "      <th>1</th>\n",
              "      <td>4.9</td>\n",
              "      <td>3.0</td>\n",
              "      <td>1.4</td>\n",
              "      <td>0.2</td>\n",
              "      <td>Iris-setosa</td>\n",
              "    </tr>\n",
              "    <tr>\n",
              "      <th>2</th>\n",
              "      <td>4.7</td>\n",
              "      <td>3.2</td>\n",
              "      <td>1.3</td>\n",
              "      <td>0.2</td>\n",
              "      <td>Iris-setosa</td>\n",
              "    </tr>\n",
              "    <tr>\n",
              "      <th>3</th>\n",
              "      <td>4.6</td>\n",
              "      <td>3.1</td>\n",
              "      <td>1.5</td>\n",
              "      <td>0.2</td>\n",
              "      <td>Iris-setosa</td>\n",
              "    </tr>\n",
              "    <tr>\n",
              "      <th>4</th>\n",
              "      <td>5.0</td>\n",
              "      <td>3.6</td>\n",
              "      <td>1.4</td>\n",
              "      <td>0.2</td>\n",
              "      <td>Iris-setosa</td>\n",
              "    </tr>\n",
              "  </tbody>\n",
              "</table>\n",
              "</div>\n",
              "      <button class=\"colab-df-convert\" onclick=\"convertToInteractive('df-f9f2e932-8fef-4368-b0c1-2db27bd5cc73')\"\n",
              "              title=\"Convert this dataframe to an interactive table.\"\n",
              "              style=\"display:none;\">\n",
              "        \n",
              "  <svg xmlns=\"http://www.w3.org/2000/svg\" height=\"24px\"viewBox=\"0 0 24 24\"\n",
              "       width=\"24px\">\n",
              "    <path d=\"M0 0h24v24H0V0z\" fill=\"none\"/>\n",
              "    <path d=\"M18.56 5.44l.94 2.06.94-2.06 2.06-.94-2.06-.94-.94-2.06-.94 2.06-2.06.94zm-11 1L8.5 8.5l.94-2.06 2.06-.94-2.06-.94L8.5 2.5l-.94 2.06-2.06.94zm10 10l.94 2.06.94-2.06 2.06-.94-2.06-.94-.94-2.06-.94 2.06-2.06.94z\"/><path d=\"M17.41 7.96l-1.37-1.37c-.4-.4-.92-.59-1.43-.59-.52 0-1.04.2-1.43.59L10.3 9.45l-7.72 7.72c-.78.78-.78 2.05 0 2.83L4 21.41c.39.39.9.59 1.41.59.51 0 1.02-.2 1.41-.59l7.78-7.78 2.81-2.81c.8-.78.8-2.07 0-2.86zM5.41 20L4 18.59l7.72-7.72 1.47 1.35L5.41 20z\"/>\n",
              "  </svg>\n",
              "      </button>\n",
              "      \n",
              "  <style>\n",
              "    .colab-df-container {\n",
              "      display:flex;\n",
              "      flex-wrap:wrap;\n",
              "      gap: 12px;\n",
              "    }\n",
              "\n",
              "    .colab-df-convert {\n",
              "      background-color: #E8F0FE;\n",
              "      border: none;\n",
              "      border-radius: 50%;\n",
              "      cursor: pointer;\n",
              "      display: none;\n",
              "      fill: #1967D2;\n",
              "      height: 32px;\n",
              "      padding: 0 0 0 0;\n",
              "      width: 32px;\n",
              "    }\n",
              "\n",
              "    .colab-df-convert:hover {\n",
              "      background-color: #E2EBFA;\n",
              "      box-shadow: 0px 1px 2px rgba(60, 64, 67, 0.3), 0px 1px 3px 1px rgba(60, 64, 67, 0.15);\n",
              "      fill: #174EA6;\n",
              "    }\n",
              "\n",
              "    [theme=dark] .colab-df-convert {\n",
              "      background-color: #3B4455;\n",
              "      fill: #D2E3FC;\n",
              "    }\n",
              "\n",
              "    [theme=dark] .colab-df-convert:hover {\n",
              "      background-color: #434B5C;\n",
              "      box-shadow: 0px 1px 3px 1px rgba(0, 0, 0, 0.15);\n",
              "      filter: drop-shadow(0px 1px 2px rgba(0, 0, 0, 0.3));\n",
              "      fill: #FFFFFF;\n",
              "    }\n",
              "  </style>\n",
              "\n",
              "      <script>\n",
              "        const buttonEl =\n",
              "          document.querySelector('#df-f9f2e932-8fef-4368-b0c1-2db27bd5cc73 button.colab-df-convert');\n",
              "        buttonEl.style.display =\n",
              "          google.colab.kernel.accessAllowed ? 'block' : 'none';\n",
              "\n",
              "        async function convertToInteractive(key) {\n",
              "          const element = document.querySelector('#df-f9f2e932-8fef-4368-b0c1-2db27bd5cc73');\n",
              "          const dataTable =\n",
              "            await google.colab.kernel.invokeFunction('convertToInteractive',\n",
              "                                                     [key], {});\n",
              "          if (!dataTable) return;\n",
              "\n",
              "          const docLinkHtml = 'Like what you see? Visit the ' +\n",
              "            '<a target=\"_blank\" href=https://colab.research.google.com/notebooks/data_table.ipynb>data table notebook</a>'\n",
              "            + ' to learn more about interactive tables.';\n",
              "          element.innerHTML = '';\n",
              "          dataTable['output_type'] = 'display_data';\n",
              "          await google.colab.output.renderOutput(dataTable, element);\n",
              "          const docLink = document.createElement('div');\n",
              "          docLink.innerHTML = docLinkHtml;\n",
              "          element.appendChild(docLink);\n",
              "        }\n",
              "      </script>\n",
              "    </div>\n",
              "  </div>\n",
              "  "
            ]
          },
          "metadata": {},
          "execution_count": 7
        }
      ]
    },
    {
      "cell_type": "code",
      "source": [
        "#count the value\n",
        "df['Species'].value_counts()"
      ],
      "metadata": {
        "colab": {
          "base_uri": "https://localhost:8080/"
        },
        "id": "uaT8_XsrLQVv",
        "outputId": "2f662a1f-a525-4988-b1b5-8b391d546134"
      },
      "execution_count": null,
      "outputs": [
        {
          "output_type": "execute_result",
          "data": {
            "text/plain": [
              "Iris-setosa        50\n",
              "Iris-versicolor    50\n",
              "Iris-virginica     50\n",
              "Name: Species, dtype: int64"
            ]
          },
          "metadata": {},
          "execution_count": 8
        }
      ]
    },
    {
      "cell_type": "code",
      "source": [
        "#finding the null value\n",
        "df.isnull().sum()"
      ],
      "metadata": {
        "colab": {
          "base_uri": "https://localhost:8080/"
        },
        "id": "ydhOFZXFLgiX",
        "outputId": "da628578-df67-49a9-a922-fda4669b34ff"
      },
      "execution_count": null,
      "outputs": [
        {
          "output_type": "execute_result",
          "data": {
            "text/plain": [
              "SepalLengthCm    0\n",
              "SepalWidthCm     0\n",
              "PetalLengthCm    0\n",
              "PetalWidthCm     0\n",
              "Species          0\n",
              "dtype: int64"
            ]
          },
          "metadata": {},
          "execution_count": 9
        }
      ]
    },
    {
      "cell_type": "code",
      "source": [
        "import missingno as msno\n",
        "msno.bar(df)"
      ],
      "metadata": {
        "colab": {
          "base_uri": "https://localhost:8080/",
          "height": 669
        },
        "id": "53HZqBDjLmv4",
        "outputId": "2c499ab6-a7ca-419f-9c92-13e4e202bbf5"
      },
      "execution_count": null,
      "outputs": [
        {
          "output_type": "execute_result",
          "data": {
            "text/plain": [
              "<matplotlib.axes._subplots.AxesSubplot at 0x7f7fe50f11d0>"
            ]
          },
          "metadata": {},
          "execution_count": 10
        },
        {
          "output_type": "display_data",
          "data": {
            "text/plain": [
              "<Figure size 1800x720 with 3 Axes>"
            ],
            "image/png": "[encoded data removed]"
          },
          "metadata": {
            "needs_background": "light"
          }
        }
      ]
    },
    {
      "cell_type": "code",
      "source": [
        "df.drop_duplicates(inplace=True)"
      ],
      "metadata": {
        "id": "n79e_KL2L20g"
      },
      "execution_count": null,
      "outputs": []
    },
    {
      "cell_type": "code",
      "source": [
        "X=df.drop('Species',axis=1)\n",
        "y=df['Species']"
      ],
      "metadata": {
        "id": "8tr4PPewNBC5"
      },
      "execution_count": null,
      "outputs": []
    },
    {
      "cell_type": "code",
      "source": [
        "df['Species'] = pd.Categorical(df.Species)\n",
        "df['Species'] = df.Species.cat.codes\n",
        "# Turn response variable into one-hot response vectory = to_categorical(df.response)\n",
        "y = to_categorical(df.Species)"
      ],
      "metadata": {
        "id": "pjSsl6GROHp-"
      },
      "execution_count": null,
      "outputs": []
    },
    {
      "cell_type": "code",
      "source": [
        "X_train,X_test,y_train,y_test = train_test_split(X,y,test_size=0.30,stratify=y,random_state=123)"
      ],
      "metadata": {
        "id": "v8Y48nGbON8G"
      },
      "execution_count": null,
      "outputs": []
    },
    {
      "cell_type": "code",
      "source": [
        "model=Sequential()\n",
        "model.add(Dense(100,activation='relu',input_shape=(4,)))\n",
        "\n",
        "model.add(Dense(3,activation='softmax'))"
      ],
      "metadata": {
        "id": "CtTqAIVXOPkA"
      },
      "execution_count": null,
      "outputs": []
    },
    {
      "cell_type": "code",
      "source": [
        "model.compile(optimizer='adam',loss='categorical_crossentropy',metrics=['accuracy'])"
      ],
      "metadata": {
        "id": "WcZmPQJdOuEk"
      },
      "execution_count": null,
      "outputs": []
    },
    {
      "cell_type": "code",
      "source": [
        "history=model.fit(X_train,y_train,epochs=100,validation_data=(X_test, y_test))"
      ],
      "metadata": {
        "colab": {
          "base_uri": "https://localhost:8080/"
        },
        "id": "NtD9cNHLO350",
        "outputId": "61d867f5-21a4-4f05-fcba-551634f3e7a5"
      },
      "execution_count": null,
      "outputs": [
        {
          "output_type": "stream",
          "name": "stdout",
          "text": [
            "Epoch 1/100\n",
            "4/4 [==============================] - 0s 47ms/step - loss: 1.3206 - accuracy: 0.3235 - val_loss: 1.2095 - val_accuracy: 0.3333\n",
            "Epoch 2/100\n",
            "4/4 [==============================] - 0s 9ms/step - loss: 1.1612 - accuracy: 0.3333 - val_loss: 1.1148 - val_accuracy: 0.1778\n",
            "Epoch 3/100\n",
            "4/4 [==============================] - 0s 10ms/step - loss: 1.0931 - accuracy: 0.2941 - val_loss: 1.0660 - val_accuracy: 0.3333\n",
            "Epoch 4/100\n",
            "4/4 [==============================] - 0s 8ms/step - loss: 1.0440 - accuracy: 0.3235 - val_loss: 1.0058 - val_accuracy: 0.3333\n",
            "Epoch 5/100\n",
            "4/4 [==============================] - 0s 9ms/step - loss: 0.9816 - accuracy: 0.3333 - val_loss: 0.9474 - val_accuracy: 0.3111\n",
            "Epoch 6/100\n",
            "4/4 [==============================] - 0s 8ms/step - loss: 0.9306 - accuracy: 0.5000 - val_loss: 0.9053 - val_accuracy: 0.6000\n",
            "Epoch 7/100\n",
            "4/4 [==============================] - 0s 9ms/step - loss: 0.8887 - accuracy: 0.6373 - val_loss: 0.8632 - val_accuracy: 0.6222\n",
            "Epoch 8/100\n",
            "4/4 [==============================] - 0s 9ms/step - loss: 0.8479 - accuracy: 0.6961 - val_loss: 0.8223 - val_accuracy: 0.6889\n",
            "Epoch 9/100\n",
            "4/4 [==============================] - 0s 9ms/step - loss: 0.8153 - accuracy: 0.6961 - val_loss: 0.7874 - val_accuracy: 0.6889\n",
            "Epoch 10/100\n",
            "4/4 [==============================] - 0s 9ms/step - loss: 0.7793 - accuracy: 0.6863 - val_loss: 0.7567 - val_accuracy: 0.6889\n",
            "Epoch 11/100\n",
            "4/4 [==============================] - 0s 8ms/step - loss: 0.7520 - accuracy: 0.7647 - val_loss: 0.7303 - val_accuracy: 0.7333\n",
            "Epoch 12/100\n",
            "4/4 [==============================] - 0s 9ms/step - loss: 0.7238 - accuracy: 0.8039 - val_loss: 0.7037 - val_accuracy: 0.7556\n",
            "Epoch 13/100\n",
            "4/4 [==============================] - 0s 8ms/step - loss: 0.6999 - accuracy: 0.7941 - val_loss: 0.6800 - val_accuracy: 0.7556\n",
            "Epoch 14/100\n",
            "4/4 [==============================] - 0s 9ms/step - loss: 0.6754 - accuracy: 0.8039 - val_loss: 0.6582 - val_accuracy: 0.8000\n",
            "Epoch 15/100\n",
            "4/4 [==============================] - 0s 8ms/step - loss: 0.6547 - accuracy: 0.8235 - val_loss: 0.6383 - val_accuracy: 0.7778\n",
            "Epoch 16/100\n",
            "4/4 [==============================] - 0s 8ms/step - loss: 0.6352 - accuracy: 0.8137 - val_loss: 0.6206 - val_accuracy: 0.8000\n",
            "Epoch 17/100\n",
            "4/4 [==============================] - 0s 9ms/step - loss: 0.6182 - accuracy: 0.8235 - val_loss: 0.6056 - val_accuracy: 0.7333\n",
            "Epoch 18/100\n",
            "4/4 [==============================] - 0s 9ms/step - loss: 0.6046 - accuracy: 0.7059 - val_loss: 0.5961 - val_accuracy: 0.6667\n",
            "Epoch 19/100\n",
            "4/4 [==============================] - 0s 9ms/step - loss: 0.5970 - accuracy: 0.6667 - val_loss: 0.5834 - val_accuracy: 0.6667\n",
            "Epoch 20/100\n",
            "4/4 [==============================] - 0s 9ms/step - loss: 0.5827 - accuracy: 0.6667 - val_loss: 0.5672 - val_accuracy: 0.7556\n",
            "Epoch 21/100\n",
            "4/4 [==============================] - 0s 9ms/step - loss: 0.5655 - accuracy: 0.8137 - val_loss: 0.5563 - val_accuracy: 0.8667\n",
            "Epoch 22/100\n",
            "4/4 [==============================] - 0s 9ms/step - loss: 0.5551 - accuracy: 0.8922 - val_loss: 0.5484 - val_accuracy: 0.8444\n",
            "Epoch 23/100\n",
            "4/4 [==============================] - 0s 8ms/step - loss: 0.5436 - accuracy: 0.8922 - val_loss: 0.5352 - val_accuracy: 0.8889\n",
            "Epoch 24/100\n",
            "4/4 [==============================] - 0s 9ms/step - loss: 0.5331 - accuracy: 0.8725 - val_loss: 0.5244 - val_accuracy: 0.8000\n",
            "Epoch 25/100\n",
            "4/4 [==============================] - 0s 9ms/step - loss: 0.5219 - accuracy: 0.8235 - val_loss: 0.5151 - val_accuracy: 0.8000\n",
            "Epoch 26/100\n",
            "4/4 [==============================] - 0s 9ms/step - loss: 0.5112 - accuracy: 0.8431 - val_loss: 0.5051 - val_accuracy: 0.8667\n",
            "Epoch 27/100\n",
            "4/4 [==============================] - 0s 8ms/step - loss: 0.4986 - accuracy: 0.9020 - val_loss: 0.4984 - val_accuracy: 0.9111\n",
            "Epoch 28/100\n",
            "4/4 [==============================] - 0s 8ms/step - loss: 0.4931 - accuracy: 0.9020 - val_loss: 0.4927 - val_accuracy: 0.8667\n",
            "Epoch 29/100\n",
            "4/4 [==============================] - 0s 8ms/step - loss: 0.4841 - accuracy: 0.9314 - val_loss: 0.4806 - val_accuracy: 0.9111\n",
            "Epoch 30/100\n",
            "4/4 [==============================] - 0s 8ms/step - loss: 0.4740 - accuracy: 0.9216 - val_loss: 0.4735 - val_accuracy: 0.8444\n",
            "Epoch 31/100\n",
            "4/4 [==============================] - 0s 10ms/step - loss: 0.4691 - accuracy: 0.8333 - val_loss: 0.4675 - val_accuracy: 0.8000\n",
            "Epoch 32/100\n",
            "4/4 [==============================] - 0s 8ms/step - loss: 0.4603 - accuracy: 0.8529 - val_loss: 0.4587 - val_accuracy: 0.8889\n",
            "Epoch 33/100\n",
            "4/4 [==============================] - 0s 8ms/step - loss: 0.4501 - accuracy: 0.9314 - val_loss: 0.4563 - val_accuracy: 0.9333\n",
            "Epoch 34/100\n",
            "4/4 [==============================] - 0s 10ms/step - loss: 0.4470 - accuracy: 0.9412 - val_loss: 0.4532 - val_accuracy: 0.9111\n",
            "Epoch 35/100\n",
            "4/4 [==============================] - 0s 10ms/step - loss: 0.4431 - accuracy: 0.9118 - val_loss: 0.4446 - val_accuracy: 0.9333\n",
            "Epoch 36/100\n",
            "4/4 [==============================] - 0s 9ms/step - loss: 0.4393 - accuracy: 0.9608 - val_loss: 0.4355 - val_accuracy: 0.9333\n",
            "Epoch 37/100\n",
            "4/4 [==============================] - 0s 9ms/step - loss: 0.4286 - accuracy: 0.9510 - val_loss: 0.4308 - val_accuracy: 0.9556\n",
            "Epoch 38/100\n",
            "4/4 [==============================] - 0s 9ms/step - loss: 0.4214 - accuracy: 0.9412 - val_loss: 0.4257 - val_accuracy: 0.9556\n",
            "Epoch 39/100\n",
            "4/4 [==============================] - 0s 9ms/step - loss: 0.4161 - accuracy: 0.9412 - val_loss: 0.4210 - val_accuracy: 0.9556\n",
            "Epoch 40/100\n",
            "4/4 [==============================] - 0s 8ms/step - loss: 0.4112 - accuracy: 0.9412 - val_loss: 0.4162 - val_accuracy: 0.9556\n",
            "Epoch 41/100\n",
            "4/4 [==============================] - 0s 9ms/step - loss: 0.4061 - accuracy: 0.9412 - val_loss: 0.4131 - val_accuracy: 0.9556\n",
            "Epoch 42/100\n",
            "4/4 [==============================] - 0s 10ms/step - loss: 0.4010 - accuracy: 0.9510 - val_loss: 0.4069 - val_accuracy: 0.9778\n",
            "Epoch 43/100\n",
            "4/4 [==============================] - 0s 9ms/step - loss: 0.3938 - accuracy: 0.9412 - val_loss: 0.4047 - val_accuracy: 0.8444\n",
            "Epoch 44/100\n",
            "4/4 [==============================] - 0s 9ms/step - loss: 0.4007 - accuracy: 0.8627 - val_loss: 0.4034 - val_accuracy: 0.8222\n",
            "Epoch 45/100\n",
            "4/4 [==============================] - 0s 8ms/step - loss: 0.3903 - accuracy: 0.9020 - val_loss: 0.3941 - val_accuracy: 0.9556\n",
            "Epoch 46/100\n",
            "4/4 [==============================] - 0s 8ms/step - loss: 0.3779 - accuracy: 0.9608 - val_loss: 0.4032 - val_accuracy: 0.8889\n",
            "Epoch 47/100\n",
            "4/4 [==============================] - 0s 9ms/step - loss: 0.3901 - accuracy: 0.9020 - val_loss: 0.4034 - val_accuracy: 0.8222\n",
            "Epoch 48/100\n",
            "4/4 [==============================] - 0s 10ms/step - loss: 0.3838 - accuracy: 0.9216 - val_loss: 0.3884 - val_accuracy: 0.9333\n",
            "Epoch 49/100\n",
            "4/4 [==============================] - 0s 9ms/step - loss: 0.3671 - accuracy: 0.9608 - val_loss: 0.3779 - val_accuracy: 0.9333\n",
            "Epoch 50/100\n",
            "4/4 [==============================] - 0s 10ms/step - loss: 0.3662 - accuracy: 0.9412 - val_loss: 0.3875 - val_accuracy: 0.8222\n",
            "Epoch 51/100\n",
            "4/4 [==============================] - 0s 10ms/step - loss: 0.3806 - accuracy: 0.8137 - val_loss: 0.3880 - val_accuracy: 0.8000\n",
            "Epoch 52/100\n",
            "4/4 [==============================] - 0s 9ms/step - loss: 0.3702 - accuracy: 0.8824 - val_loss: 0.3677 - val_accuracy: 0.9111\n",
            "Epoch 53/100\n",
            "4/4 [==============================] - 0s 9ms/step - loss: 0.3500 - accuracy: 0.9412 - val_loss: 0.3665 - val_accuracy: 0.9333\n",
            "Epoch 54/100\n",
            "4/4 [==============================] - 0s 7ms/step - loss: 0.3561 - accuracy: 0.9412 - val_loss: 0.3713 - val_accuracy: 0.9333\n",
            "Epoch 55/100\n",
            "4/4 [==============================] - 0s 7ms/step - loss: 0.3516 - accuracy: 0.9412 - val_loss: 0.3606 - val_accuracy: 0.9556\n",
            "Epoch 56/100\n",
            "4/4 [==============================] - 0s 8ms/step - loss: 0.3442 - accuracy: 0.9608 - val_loss: 0.3530 - val_accuracy: 0.9778\n",
            "Epoch 57/100\n",
            "4/4 [==============================] - 0s 8ms/step - loss: 0.3372 - accuracy: 0.9608 - val_loss: 0.3501 - val_accuracy: 0.9333\n",
            "Epoch 58/100\n",
            "4/4 [==============================] - 0s 9ms/step - loss: 0.3355 - accuracy: 0.9412 - val_loss: 0.3484 - val_accuracy: 0.9111\n",
            "Epoch 59/100\n",
            "4/4 [==============================] - 0s 8ms/step - loss: 0.3322 - accuracy: 0.9412 - val_loss: 0.3433 - val_accuracy: 0.9778\n",
            "Epoch 60/100\n",
            "4/4 [==============================] - 0s 7ms/step - loss: 0.3278 - accuracy: 0.9510 - val_loss: 0.3405 - val_accuracy: 0.9556\n",
            "Epoch 61/100\n",
            "4/4 [==============================] - 0s 8ms/step - loss: 0.3237 - accuracy: 0.9608 - val_loss: 0.3379 - val_accuracy: 0.9556\n",
            "Epoch 62/100\n",
            "4/4 [==============================] - 0s 8ms/step - loss: 0.3203 - accuracy: 0.9608 - val_loss: 0.3358 - val_accuracy: 0.9778\n",
            "Epoch 63/100\n",
            "4/4 [==============================] - 0s 11ms/step - loss: 0.3169 - accuracy: 0.9608 - val_loss: 0.3314 - val_accuracy: 0.9556\n",
            "Epoch 64/100\n",
            "4/4 [==============================] - 0s 9ms/step - loss: 0.3129 - accuracy: 0.9608 - val_loss: 0.3283 - val_accuracy: 0.9556\n",
            "Epoch 65/100\n",
            "4/4 [==============================] - 0s 9ms/step - loss: 0.3095 - accuracy: 0.9608 - val_loss: 0.3259 - val_accuracy: 0.9556\n",
            "Epoch 66/100\n",
            "4/4 [==============================] - 0s 9ms/step - loss: 0.3070 - accuracy: 0.9608 - val_loss: 0.3225 - val_accuracy: 0.9556\n",
            "Epoch 67/100\n",
            "4/4 [==============================] - 0s 9ms/step - loss: 0.3045 - accuracy: 0.9608 - val_loss: 0.3203 - val_accuracy: 0.9333\n",
            "Epoch 68/100\n",
            "4/4 [==============================] - 0s 9ms/step - loss: 0.3030 - accuracy: 0.9608 - val_loss: 0.3178 - val_accuracy: 0.9333\n",
            "Epoch 69/100\n",
            "4/4 [==============================] - 0s 9ms/step - loss: 0.2997 - accuracy: 0.9608 - val_loss: 0.3144 - val_accuracy: 0.9556\n",
            "Epoch 70/100\n",
            "4/4 [==============================] - 0s 9ms/step - loss: 0.2950 - accuracy: 0.9706 - val_loss: 0.3106 - val_accuracy: 0.9556\n",
            "Epoch 71/100\n",
            "4/4 [==============================] - 0s 10ms/step - loss: 0.2948 - accuracy: 0.9608 - val_loss: 0.3106 - val_accuracy: 0.9778\n",
            "Epoch 72/100\n",
            "4/4 [==============================] - 0s 10ms/step - loss: 0.2899 - accuracy: 0.9608 - val_loss: 0.3051 - val_accuracy: 0.9556\n",
            "Epoch 73/100\n",
            "4/4 [==============================] - 0s 10ms/step - loss: 0.2853 - accuracy: 0.9608 - val_loss: 0.3026 - val_accuracy: 0.9556\n",
            "Epoch 74/100\n",
            "4/4 [==============================] - 0s 9ms/step - loss: 0.2828 - accuracy: 0.9608 - val_loss: 0.3016 - val_accuracy: 0.9778\n",
            "Epoch 75/100\n",
            "4/4 [==============================] - 0s 8ms/step - loss: 0.2798 - accuracy: 0.9608 - val_loss: 0.2968 - val_accuracy: 0.9778\n",
            "Epoch 76/100\n",
            "4/4 [==============================] - 0s 8ms/step - loss: 0.2749 - accuracy: 0.9608 - val_loss: 0.2963 - val_accuracy: 0.9333\n",
            "Epoch 77/100\n",
            "4/4 [==============================] - 0s 8ms/step - loss: 0.2768 - accuracy: 0.9706 - val_loss: 0.2958 - val_accuracy: 0.9333\n",
            "Epoch 78/100\n",
            "4/4 [==============================] - 0s 8ms/step - loss: 0.2789 - accuracy: 0.9510 - val_loss: 0.2940 - val_accuracy: 0.9333\n",
            "Epoch 79/100\n",
            "4/4 [==============================] - 0s 8ms/step - loss: 0.2716 - accuracy: 0.9706 - val_loss: 0.2864 - val_accuracy: 0.9778\n",
            "Epoch 80/100\n",
            "4/4 [==============================] - 0s 8ms/step - loss: 0.2646 - accuracy: 0.9608 - val_loss: 0.2861 - val_accuracy: 0.9778\n",
            "Epoch 81/100\n",
            "4/4 [==============================] - 0s 8ms/step - loss: 0.2644 - accuracy: 0.9608 - val_loss: 0.2859 - val_accuracy: 0.9778\n",
            "Epoch 82/100\n",
            "4/4 [==============================] - 0s 7ms/step - loss: 0.2666 - accuracy: 0.9608 - val_loss: 0.2887 - val_accuracy: 0.9778\n",
            "Epoch 83/100\n",
            "4/4 [==============================] - 0s 7ms/step - loss: 0.2645 - accuracy: 0.9608 - val_loss: 0.2823 - val_accuracy: 0.9778\n",
            "Epoch 84/100\n",
            "4/4 [==============================] - 0s 8ms/step - loss: 0.2595 - accuracy: 0.9706 - val_loss: 0.2765 - val_accuracy: 0.9778\n",
            "Epoch 85/100\n",
            "4/4 [==============================] - 0s 7ms/step - loss: 0.2542 - accuracy: 0.9608 - val_loss: 0.2738 - val_accuracy: 0.9778\n",
            "Epoch 86/100\n",
            "4/4 [==============================] - 0s 8ms/step - loss: 0.2504 - accuracy: 0.9608 - val_loss: 0.2699 - val_accuracy: 0.9778\n",
            "Epoch 87/100\n",
            "4/4 [==============================] - 0s 8ms/step - loss: 0.2483 - accuracy: 0.9608 - val_loss: 0.2679 - val_accuracy: 0.9778\n",
            "Epoch 88/100\n",
            "4/4 [==============================] - 0s 9ms/step - loss: 0.2472 - accuracy: 0.9706 - val_loss: 0.2664 - val_accuracy: 0.9778\n",
            "Epoch 89/100\n",
            "4/4 [==============================] - 0s 8ms/step - loss: 0.2439 - accuracy: 0.9706 - val_loss: 0.2629 - val_accuracy: 0.9778\n",
            "Epoch 90/100\n",
            "4/4 [==============================] - 0s 7ms/step - loss: 0.2407 - accuracy: 0.9608 - val_loss: 0.2617 - val_accuracy: 0.9778\n",
            "Epoch 91/100\n",
            "4/4 [==============================] - 0s 9ms/step - loss: 0.2407 - accuracy: 0.9608 - val_loss: 0.2664 - val_accuracy: 0.9778\n",
            "Epoch 92/100\n",
            "4/4 [==============================] - 0s 10ms/step - loss: 0.2428 - accuracy: 0.9608 - val_loss: 0.2652 - val_accuracy: 0.9778\n",
            "Epoch 93/100\n",
            "4/4 [==============================] - 0s 9ms/step - loss: 0.2404 - accuracy: 0.9608 - val_loss: 0.2596 - val_accuracy: 0.9778\n",
            "Epoch 94/100\n",
            "4/4 [==============================] - 0s 9ms/step - loss: 0.2332 - accuracy: 0.9608 - val_loss: 0.2524 - val_accuracy: 0.9778\n",
            "Epoch 95/100\n",
            "4/4 [==============================] - 0s 8ms/step - loss: 0.2323 - accuracy: 0.9608 - val_loss: 0.2520 - val_accuracy: 0.9556\n",
            "Epoch 96/100\n",
            "4/4 [==============================] - 0s 8ms/step - loss: 0.2297 - accuracy: 0.9706 - val_loss: 0.2500 - val_accuracy: 0.9556\n",
            "Epoch 97/100\n",
            "4/4 [==============================] - 0s 9ms/step - loss: 0.2270 - accuracy: 0.9706 - val_loss: 0.2469 - val_accuracy: 0.9778\n",
            "Epoch 98/100\n",
            "4/4 [==============================] - 0s 10ms/step - loss: 0.2236 - accuracy: 0.9706 - val_loss: 0.2444 - val_accuracy: 0.9778\n",
            "Epoch 99/100\n",
            "4/4 [==============================] - 0s 8ms/step - loss: 0.2213 - accuracy: 0.9608 - val_loss: 0.2448 - val_accuracy: 0.9778\n",
            "Epoch 100/100\n",
            "4/4 [==============================] - 0s 8ms/step - loss: 0.2231 - accuracy: 0.9608 - val_loss: 0.2447 - val_accuracy: 0.9778\n"
          ]
        }
      ]
    },
    {
      "cell_type": "code",
      "source": [
        "model.evaluate(X_test,y_test)"
      ],
      "metadata": {
        "colab": {
          "base_uri": "https://localhost:8080/"
        },
        "id": "uPAPIxsCO8-8",
        "outputId": "b1b86069-09cf-4fe0-c700-bd079696cc57"
      },
      "execution_count": null,
      "outputs": [
        {
          "output_type": "stream",
          "name": "stdout",
          "text": [
            "2/2 [==============================] - 0s 4ms/step - loss: 0.2447 - accuracy: 0.9778\n"
          ]
        },
        {
          "output_type": "execute_result",
          "data": {
            "text/plain": [
              "[0.24470901489257812, 0.9777777791023254]"
            ]
          },
          "metadata": {},
          "execution_count": 85
        }
      ]
    },
    {
      "cell_type": "code",
      "source": [
        "pred = model.predict(X_test[:10])\n",
        "print(pred)"
      ],
      "metadata": {
        "colab": {
          "base_uri": "https://localhost:8080/"
        },
        "id": "n_WANtSYPNbW",
        "outputId": "2ca48789-3c99-4217-f9ea-e1c8132fed20"
      },
      "execution_count": null,
      "outputs": [
        {
          "output_type": "stream",
          "name": "stdout",
          "text": [
            "WARNING:tensorflow:5 out of the last 6 calls to <function Model.make_predict_function.<locals>.predict_function at 0x7f7f729da4d0> triggered tf.function retracing. Tracing is expensive and the excessive number of tracings could be due to (1) creating @tf.function repeatedly in a loop, (2) passing tensors with different shapes, (3) passing Python objects instead of tensors. For (1), please define your @tf.function outside of the loop. For (2), @tf.function has experimental_relax_shapes=True option that relaxes argument shapes that can avoid unnecessary retracing. For (3), please refer to https://www.tensorflow.org/guide/function#controlling_retracing and https://www.tensorflow.org/api_docs/python/tf/function for  more details.\n",
            "[[3.6630247e-04 2.6287559e-01 7.3675805e-01]\n",
            " [2.4637158e-04 2.3618050e-01 7.6357311e-01]\n",
            " [2.4546279e-02 8.2459319e-01 1.5086056e-01]\n",
            " [1.0836448e-02 7.2368866e-01 2.6547495e-01]\n",
            " [9.7967404e-01 2.0173950e-02 1.5199643e-04]\n",
            " [1.0207875e-02 7.9906118e-01 1.9073100e-01]\n",
            " [2.1948427e-04 1.3714811e-01 8.6263245e-01]\n",
            " [2.9175801e-04 1.6692971e-01 8.3277851e-01]\n",
            " [9.7879606e-01 2.1076405e-02 1.2750149e-04]\n",
            " [1.5254529e-03 4.4416180e-01 5.5431277e-01]]\n"
          ]
        }
      ]
    },
    {
      "cell_type": "code",
      "source": [
        "p=np.argmax(pred,axis=1)\n",
        "print(p)\n",
        "print(y_test[:10])"
      ],
      "metadata": {
        "colab": {
          "base_uri": "https://localhost:8080/"
        },
        "id": "p-QzPmN7PRFt",
        "outputId": "9825f221-82ed-4987-e40f-1fd4eac3221b"
      },
      "execution_count": null,
      "outputs": [
        {
          "output_type": "stream",
          "name": "stdout",
          "text": [
            "[2 2 1 1 0 1 2 2 0 2]\n",
            "[[0. 0. 1.]\n",
            " [0. 0. 1.]\n",
            " [0. 1. 0.]\n",
            " [0. 1. 0.]\n",
            " [1. 0. 0.]\n",
            " [0. 1. 0.]\n",
            " [0. 0. 1.]\n",
            " [0. 0. 1.]\n",
            " [1. 0. 0.]\n",
            " [0. 0. 1.]]\n"
          ]
        }
      ]
    },
    {
      "cell_type": "code",
      "source": [
        "history.history['accuracy']"
      ],
      "metadata": {
        "colab": {
          "base_uri": "https://localhost:8080/"
        },
        "id": "3347DR1ePUuU",
        "outputId": "ffb06625-6828-41b4-b16c-d0e7ee5a67f8"
      },
      "execution_count": null,
      "outputs": [
        {
          "output_type": "execute_result",
          "data": {
            "text/plain": [
              "[0.3235294222831726,\n",
              " 0.3333333432674408,\n",
              " 0.29411765933036804,\n",
              " 0.3235294222831726,\n",
              " 0.3333333432674408,\n",
              " 0.5,\n",
              " 0.6372548937797546,\n",
              " 0.6960784196853638,\n",
              " 0.6960784196853638,\n",
              " 0.686274528503418,\n",
              " 0.7647058963775635,\n",
              " 0.8039215803146362,\n",
              " 0.7941176295280457,\n",
              " 0.8039215803146362,\n",
              " 0.8235294222831726,\n",
              " 0.813725471496582,\n",
              " 0.8235294222831726,\n",
              " 0.7058823704719543,\n",
              " 0.6666666865348816,\n",
              " 0.6666666865348816,\n",
              " 0.813725471496582,\n",
              " 0.8921568393707275,\n",
              " 0.8921568393707275,\n",
              " 0.8725489974021912,\n",
              " 0.8235294222831726,\n",
              " 0.843137264251709,\n",
              " 0.9019607901573181,\n",
              " 0.9019607901573181,\n",
              " 0.9313725233078003,\n",
              " 0.9215686321258545,\n",
              " 0.8333333134651184,\n",
              " 0.8529411554336548,\n",
              " 0.9313725233078003,\n",
              " 0.9411764740943909,\n",
              " 0.9117646813392639,\n",
              " 0.9607843160629272,\n",
              " 0.9509803652763367,\n",
              " 0.9411764740943909,\n",
              " 0.9411764740943909,\n",
              " 0.9411764740943909,\n",
              " 0.9411764740943909,\n",
              " 0.9509803652763367,\n",
              " 0.9411764740943909,\n",
              " 0.8627451062202454,\n",
              " 0.9019607901573181,\n",
              " 0.9607843160629272,\n",
              " 0.9019607901573181,\n",
              " 0.9215686321258545,\n",
              " 0.9607843160629272,\n",
              " 0.9411764740943909,\n",
              " 0.813725471496582,\n",
              " 0.8823529481887817,\n",
              " 0.9411764740943909,\n",
              " 0.9411764740943909,\n",
              " 0.9411764740943909,\n",
              " 0.9607843160629272,\n",
              " 0.9607843160629272,\n",
              " 0.9411764740943909,\n",
              " 0.9411764740943909,\n",
              " 0.9509803652763367,\n",
              " 0.9607843160629272,\n",
              " 0.9607843160629272,\n",
              " 0.9607843160629272,\n",
              " 0.9607843160629272,\n",
              " 0.9607843160629272,\n",
              " 0.9607843160629272,\n",
              " 0.9607843160629272,\n",
              " 0.9607843160629272,\n",
              " 0.9607843160629272,\n",
              " 0.970588207244873,\n",
              " 0.9607843160629272,\n",
              " 0.9607843160629272,\n",
              " 0.9607843160629272,\n",
              " 0.9607843160629272,\n",
              " 0.9607843160629272,\n",
              " 0.9607843160629272,\n",
              " 0.970588207244873,\n",
              " 0.9509803652763367,\n",
              " 0.970588207244873,\n",
              " 0.9607843160629272,\n",
              " 0.9607843160629272,\n",
              " 0.9607843160629272,\n",
              " 0.9607843160629272,\n",
              " 0.970588207244873,\n",
              " 0.9607843160629272,\n",
              " 0.9607843160629272,\n",
              " 0.9607843160629272,\n",
              " 0.970588207244873,\n",
              " 0.970588207244873,\n",
              " 0.9607843160629272,\n",
              " 0.9607843160629272,\n",
              " 0.9607843160629272,\n",
              " 0.9607843160629272,\n",
              " 0.9607843160629272,\n",
              " 0.9607843160629272,\n",
              " 0.970588207244873,\n",
              " 0.970588207244873,\n",
              " 0.970588207244873,\n",
              " 0.9607843160629272,\n",
              " 0.9607843160629272]"
            ]
          },
          "metadata": {},
          "execution_count": 88
        }
      ]
    },
    {
      "cell_type": "code",
      "source": [
        "history.history['val_accuracy']"
      ],
      "metadata": {
        "colab": {
          "base_uri": "https://localhost:8080/"
        },
        "id": "_r3iUBOKPWz0",
        "outputId": "09c6adc3-88fb-4001-9d44-21d594358563"
      },
      "execution_count": null,
      "outputs": [
        {
          "output_type": "execute_result",
          "data": {
            "text/plain": [
              "[0.3333333432674408,\n",
              " 0.17777778208255768,\n",
              " 0.3333333432674408,\n",
              " 0.3333333432674408,\n",
              " 0.31111112236976624,\n",
              " 0.6000000238418579,\n",
              " 0.6222222447395325,\n",
              " 0.6888889074325562,\n",
              " 0.6888889074325562,\n",
              " 0.6888889074325562,\n",
              " 0.7333333492279053,\n",
              " 0.7555555701255798,\n",
              " 0.7555555701255798,\n",
              " 0.800000011920929,\n",
              " 0.7777777910232544,\n",
              " 0.800000011920929,\n",
              " 0.7333333492279053,\n",
              " 0.6666666865348816,\n",
              " 0.6666666865348816,\n",
              " 0.7555555701255798,\n",
              " 0.8666666746139526,\n",
              " 0.8444444537162781,\n",
              " 0.8888888955116272,\n",
              " 0.800000011920929,\n",
              " 0.800000011920929,\n",
              " 0.8666666746139526,\n",
              " 0.9111111164093018,\n",
              " 0.8666666746139526,\n",
              " 0.9111111164093018,\n",
              " 0.8444444537162781,\n",
              " 0.800000011920929,\n",
              " 0.8888888955116272,\n",
              " 0.9333333373069763,\n",
              " 0.9111111164093018,\n",
              " 0.9333333373069763,\n",
              " 0.9333333373069763,\n",
              " 0.9555555582046509,\n",
              " 0.9555555582046509,\n",
              " 0.9555555582046509,\n",
              " 0.9555555582046509,\n",
              " 0.9555555582046509,\n",
              " 0.9777777791023254,\n",
              " 0.8444444537162781,\n",
              " 0.8222222328186035,\n",
              " 0.9555555582046509,\n",
              " 0.8888888955116272,\n",
              " 0.8222222328186035,\n",
              " 0.9333333373069763,\n",
              " 0.9333333373069763,\n",
              " 0.8222222328186035,\n",
              " 0.800000011920929,\n",
              " 0.9111111164093018,\n",
              " 0.9333333373069763,\n",
              " 0.9333333373069763,\n",
              " 0.9555555582046509,\n",
              " 0.9777777791023254,\n",
              " 0.9333333373069763,\n",
              " 0.9111111164093018,\n",
              " 0.9777777791023254,\n",
              " 0.9555555582046509,\n",
              " 0.9555555582046509,\n",
              " 0.9777777791023254,\n",
              " 0.9555555582046509,\n",
              " 0.9555555582046509,\n",
              " 0.9555555582046509,\n",
              " 0.9555555582046509,\n",
              " 0.9333333373069763,\n",
              " 0.9333333373069763,\n",
              " 0.9555555582046509,\n",
              " 0.9555555582046509,\n",
              " 0.9777777791023254,\n",
              " 0.9555555582046509,\n",
              " 0.9555555582046509,\n",
              " 0.9777777791023254,\n",
              " 0.9777777791023254,\n",
              " 0.9333333373069763,\n",
              " 0.9333333373069763,\n",
              " 0.9333333373069763,\n",
              " 0.9777777791023254,\n",
              " 0.9777777791023254,\n",
              " 0.9777777791023254,\n",
              " 0.9777777791023254,\n",
              " 0.9777777791023254,\n",
              " 0.9777777791023254,\n",
              " 0.9777777791023254,\n",
              " 0.9777777791023254,\n",
              " 0.9777777791023254,\n",
              " 0.9777777791023254,\n",
              " 0.9777777791023254,\n",
              " 0.9777777791023254,\n",
              " 0.9777777791023254,\n",
              " 0.9777777791023254,\n",
              " 0.9777777791023254,\n",
              " 0.9777777791023254,\n",
              " 0.9555555582046509,\n",
              " 0.9555555582046509,\n",
              " 0.9777777791023254,\n",
              " 0.9777777791023254,\n",
              " 0.9777777791023254,\n",
              " 0.9777777791023254]"
            ]
          },
          "metadata": {},
          "execution_count": 89
        }
      ]
    },
    {
      "cell_type": "code",
      "source": [
        "plt.figure()\n",
        "\n",
        "plt.plot(history.history['accuracy'])\n",
        "plt.plot(history.history['val_accuracy'])\n",
        "\n",
        "plt.title('Model accuracy')\n",
        "plt.ylabel('Accuracy')\n",
        "plt.xlabel('Epoch')\n",
        "plt.legend(['Train', 'Test'])\n",
        "plt.show()"
      ],
      "metadata": {
        "colab": {
          "base_uri": "https://localhost:8080/",
          "height": 296
        },
        "id": "QlXaCUihPaD5",
        "outputId": "f4113ba1-2711-4949-c3a5-ca82fd442677"
      },
      "execution_count": null,
      "outputs": [
        {
          "output_type": "display_data",
          "data": {
            "text/plain": [
              "<Figure size 432x288 with 1 Axes>"
            ],
            "image/png": "[encoded data removed]"
          },
          "metadata": {
            "needs_background": "light"
          }
        }
      ]
    },
    {
      "cell_type": "code",
      "source": [
        "array = df.values\n",
        "X = array[:,1:]\n",
        "Y = array[:,0]\n",
        "\n",
        "# prepare models\n",
        "models = []\n",
        "models.append(('Xboost', XGBClassifier(max_depth = 1, eval_metric = \"mlogloss\")))\n",
        "models.append(('RandomForest', RandomForestClassifier()))\n",
        "models.append(('Bayes', GaussianNB()))\n",
        "models.append(('GradientBoosting', GradientBoostingClassifier(random_state=0)))\n",
        "models.append(('Tree', DecisionTreeClassifier(random_state=0)))\n",
        "models.append(('KNN2', KNeighborsClassifier(n_neighbors=2)))\n",
        "models.append(('KNN3', KNeighborsClassifier(n_neighbors=3)))\n",
        "models.append(('KNN4', KNeighborsClassifier(n_neighbors=5)))\n",
        "models.append(('KNN10', KNeighborsClassifier(n_neighbors=10)))\n",
        "models.append(('KNN20', KNeighborsClassifier(n_neighbors=20)))\n",
        "models.append(('SVCPoly', GaussianNB()))\n",
        "#models.append(('SVCPoly', SVC(C=1.0, kernel='poly', degree=3, gamma=2)))\n",
        "models.append(('SVCsigmoid', SVC(C=1.0, kernel='sigmoid', degree=3, gamma=2)))\n",
        "models.append(('SVCrbf', SVC(C=1.0, kernel='rbf', degree=3, gamma=2)))\n",
        "models.append(('MLPClassifierit300l5', MLPClassifier(random_state=1, max_iter=300,hidden_layer_sizes=(5,))))\n",
        "models.append(('MLPClassifierit100l5', MLPClassifier(random_state=1, max_iter=100,hidden_layer_sizes=(5,))))\n",
        "models.append(('MLPClassifierit1000l15', MLPClassifier(random_state=1, max_iter=1000,hidden_layer_sizes=(15,))))\n",
        "models.append(('MLPClassifierit10l3', MLPClassifier(random_state=1, max_iter=10,hidden_layer_sizes=(3,))))\n",
        "\n",
        "#evaluate each model in turn\n",
        "results = []\n",
        "names = []\n",
        "scoring = 'accuracy'\n",
        "for name, model in models:\n",
        "    kfold = KFold(n_splits=10, random_state=7)\n",
        "    cv_results = cross_val_score(model, X, Y, cv=kfold, scoring=scoring)\n",
        "    results.append(cv_results)\n",
        "    names.append(name)\n",
        "    msg = \"%s -> accuracy: (%f), Standard Deviation: (%f)\" % (name, cv_results.mean(), cv_results.std())\n",
        "    print(msg)\n",
        "\n",
        "# boxplot algorithm comparison\n",
        "fig = pyplot.figure()\n",
        "fig.suptitle('Algorithm Comparison')\n",
        "ax = fig.add_subplot(111)\n",
        "pyplot.boxplot(results)\n",
        "ax.set_xticklabels(names)\n",
        "pyplot.show()"
      ],
      "metadata": {
        "colab": {
          "base_uri": "https://localhost:8080/",
          "height": 380
        },
        "id": "ABxq1UBwd-j8",
        "outputId": "3c570853-b7a1-4059-9917-daa79fe65b2b"
      },
      "execution_count": null,
      "outputs": [
        {
          "output_type": "error",
          "ename": "ValueError",
          "evalue": "ignored",
          "traceback": [
            "\u001b[0;31m---------------------------------------------------------------------------\u001b[0m",
            "\u001b[0;31mValueError\u001b[0m                                Traceback (most recent call last)",
            "\u001b[0;32m<ipython-input-96-2216cf994a90>\u001b[0m in \u001b[0;36m<module>\u001b[0;34m()\u001b[0m\n\u001b[1;32m     29\u001b[0m \u001b[0mscoring\u001b[0m \u001b[0;34m=\u001b[0m \u001b[0;34m'accuracy'\u001b[0m\u001b[0;34m\u001b[0m\u001b[0;34m\u001b[0m\u001b[0m\n\u001b[1;32m     30\u001b[0m \u001b[0;32mfor\u001b[0m \u001b[0mname\u001b[0m\u001b[0;34m,\u001b[0m \u001b[0mmodel\u001b[0m \u001b[0;32min\u001b[0m \u001b[0mmodels\u001b[0m\u001b[0;34m:\u001b[0m\u001b[0;34m\u001b[0m\u001b[0;34m\u001b[0m\u001b[0m\n\u001b[0;32m---> 31\u001b[0;31m     \u001b[0mkfold\u001b[0m \u001b[0;34m=\u001b[0m \u001b[0mKFold\u001b[0m\u001b[0;34m(\u001b[0m\u001b[0mn_splits\u001b[0m\u001b[0;34m=\u001b[0m\u001b[0;36m10\u001b[0m\u001b[0;34m,\u001b[0m \u001b[0mrandom_state\u001b[0m\u001b[0;34m=\u001b[0m\u001b[0;36m7\u001b[0m\u001b[0;34m)\u001b[0m\u001b[0;34m\u001b[0m\u001b[0;34m\u001b[0m\u001b[0m\n\u001b[0m\u001b[1;32m     32\u001b[0m     \u001b[0mcv_results\u001b[0m \u001b[0;34m=\u001b[0m \u001b[0mcross_val_score\u001b[0m\u001b[0;34m(\u001b[0m\u001b[0mmodel\u001b[0m\u001b[0;34m,\u001b[0m \u001b[0mX\u001b[0m\u001b[0;34m,\u001b[0m \u001b[0mY\u001b[0m\u001b[0;34m,\u001b[0m \u001b[0mcv\u001b[0m\u001b[0;34m=\u001b[0m\u001b[0mkfold\u001b[0m\u001b[0;34m,\u001b[0m \u001b[0mscoring\u001b[0m\u001b[0;34m=\u001b[0m\u001b[0mscoring\u001b[0m\u001b[0;34m)\u001b[0m\u001b[0;34m\u001b[0m\u001b[0;34m\u001b[0m\u001b[0m\n\u001b[1;32m     33\u001b[0m     \u001b[0mresults\u001b[0m\u001b[0;34m.\u001b[0m\u001b[0mappend\u001b[0m\u001b[0;34m(\u001b[0m\u001b[0mcv_results\u001b[0m\u001b[0;34m)\u001b[0m\u001b[0;34m\u001b[0m\u001b[0;34m\u001b[0m\u001b[0m\n",
            "\u001b[0;32m/usr/local/lib/python3.7/dist-packages/sklearn/model_selection/_split.py\u001b[0m in \u001b[0;36m__init__\u001b[0;34m(self, n_splits, shuffle, random_state)\u001b[0m\n\u001b[1;32m    433\u001b[0m \u001b[0;34m\u001b[0m\u001b[0m\n\u001b[1;32m    434\u001b[0m     \u001b[0;32mdef\u001b[0m \u001b[0m__init__\u001b[0m\u001b[0;34m(\u001b[0m\u001b[0mself\u001b[0m\u001b[0;34m,\u001b[0m \u001b[0mn_splits\u001b[0m\u001b[0;34m=\u001b[0m\u001b[0;36m5\u001b[0m\u001b[0;34m,\u001b[0m \u001b[0;34m*\u001b[0m\u001b[0;34m,\u001b[0m \u001b[0mshuffle\u001b[0m\u001b[0;34m=\u001b[0m\u001b[0;32mFalse\u001b[0m\u001b[0;34m,\u001b[0m \u001b[0mrandom_state\u001b[0m\u001b[0;34m=\u001b[0m\u001b[0;32mNone\u001b[0m\u001b[0;34m)\u001b[0m\u001b[0;34m:\u001b[0m\u001b[0;34m\u001b[0m\u001b[0;34m\u001b[0m\u001b[0m\n\u001b[0;32m--> 435\u001b[0;31m         \u001b[0msuper\u001b[0m\u001b[0;34m(\u001b[0m\u001b[0;34m)\u001b[0m\u001b[0;34m.\u001b[0m\u001b[0m__init__\u001b[0m\u001b[0;34m(\u001b[0m\u001b[0mn_splits\u001b[0m\u001b[0;34m=\u001b[0m\u001b[0mn_splits\u001b[0m\u001b[0;34m,\u001b[0m \u001b[0mshuffle\u001b[0m\u001b[0;34m=\u001b[0m\u001b[0mshuffle\u001b[0m\u001b[0;34m,\u001b[0m \u001b[0mrandom_state\u001b[0m\u001b[0;34m=\u001b[0m\u001b[0mrandom_state\u001b[0m\u001b[0;34m)\u001b[0m\u001b[0;34m\u001b[0m\u001b[0;34m\u001b[0m\u001b[0m\n\u001b[0m\u001b[1;32m    436\u001b[0m \u001b[0;34m\u001b[0m\u001b[0m\n\u001b[1;32m    437\u001b[0m     \u001b[0;32mdef\u001b[0m \u001b[0m_iter_test_indices\u001b[0m\u001b[0;34m(\u001b[0m\u001b[0mself\u001b[0m\u001b[0;34m,\u001b[0m \u001b[0mX\u001b[0m\u001b[0;34m,\u001b[0m \u001b[0my\u001b[0m\u001b[0;34m=\u001b[0m\u001b[0;32mNone\u001b[0m\u001b[0;34m,\u001b[0m \u001b[0mgroups\u001b[0m\u001b[0;34m=\u001b[0m\u001b[0;32mNone\u001b[0m\u001b[0;34m)\u001b[0m\u001b[0;34m:\u001b[0m\u001b[0;34m\u001b[0m\u001b[0;34m\u001b[0m\u001b[0m\n",
            "\u001b[0;32m/usr/local/lib/python3.7/dist-packages/sklearn/model_selection/_split.py\u001b[0m in \u001b[0;36m__init__\u001b[0;34m(self, n_splits, shuffle, random_state)\u001b[0m\n\u001b[1;32m    295\u001b[0m         \u001b[0;32mif\u001b[0m \u001b[0;32mnot\u001b[0m \u001b[0mshuffle\u001b[0m \u001b[0;32mand\u001b[0m \u001b[0mrandom_state\u001b[0m \u001b[0;32mis\u001b[0m \u001b[0;32mnot\u001b[0m \u001b[0;32mNone\u001b[0m\u001b[0;34m:\u001b[0m  \u001b[0;31m# None is the default\u001b[0m\u001b[0;34m\u001b[0m\u001b[0;34m\u001b[0m\u001b[0m\n\u001b[1;32m    296\u001b[0m             raise ValueError(\n\u001b[0;32m--> 297\u001b[0;31m                 \u001b[0;34m\"Setting a random_state has no effect since shuffle is \"\u001b[0m\u001b[0;34m\u001b[0m\u001b[0;34m\u001b[0m\u001b[0m\n\u001b[0m\u001b[1;32m    298\u001b[0m                 \u001b[0;34m\"False. You should leave \"\u001b[0m\u001b[0;34m\u001b[0m\u001b[0;34m\u001b[0m\u001b[0m\n\u001b[1;32m    299\u001b[0m                 \u001b[0;34m\"random_state to its default (None), or set shuffle=True.\"\u001b[0m\u001b[0;34m,\u001b[0m\u001b[0;34m\u001b[0m\u001b[0;34m\u001b[0m\u001b[0m\n",
            "\u001b[0;31mValueError\u001b[0m: Setting a random_state has no effect since shuffle is False. You should leave random_state to its default (None), or set shuffle=True."
          ]
        }
      ]
    }
  ]
}